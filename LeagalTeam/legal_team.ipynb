{
 "cells": [
  {
   "cell_type": "code",
   "execution_count": null,
   "id": "ec09b079",
   "metadata": {},
   "outputs": [],
   "source": [
    "import os\n",
    "import tempfile \n",
    "from agno.agent import Agent\n",
    "from agno.models.google import Gemini \n",
    "from agno.models.xai import xAI \n",
    "from agno.embedder.google import GeminiEmbedder\n",
    "from agno.tools.duckduckgo import DuckDuckGoTools\n",
    "from agno.knowledge.pdf import PDFKnowledgeBase, PDFReader \n",
    "from agno.vectordb.chroma import ChromaDb\n",
    "from agno.document.chunking.document import DocumentChunking \n"
   ]
  },
  {
   "cell_type": "code",
   "execution_count": null,
   "id": "ff5f4372",
   "metadata": {},
   "outputs": [],
   "source": [
    "GOOGLE_API_KEY = \"\"\n",
    "PDF_FILE_PATH = \"legal_document.pdf\"  \n",
    "CHUNK_SIZE = 1000\n",
    "OVERLAP = 200"
   ]
  },
  {
   "cell_type": "code",
   "execution_count": null,
   "id": "82c32f98",
   "metadata": {},
   "outputs": [],
   "source": [
    "os.environ[\"GOOGLE_API_KEY\"] = GOOGLE_API_KEY\n"
   ]
  },
  {
   "cell_type": "code",
   "execution_count": null,
   "id": "13211cda",
   "metadata": {},
   "outputs": [],
   "source": [
    "# Initialize Vector DB\n",
    "vector_db = ChromaDb(\n",
    "    collection=\"law\",\n",
    "    path=\"tmp/chromadb\",\n",
    "    persistent_client=True,\n",
    "    embedder=GeminiEmbedder()\n",
    ")\n",
    "\n",
    "# Load and process PDF\n",
    "print(\"Processing document...\")\n",
    "\n",
    "knowledge_base = PDFKnowledgeBase(\n",
    "    path=PDF_FILE_PATH,\n",
    "    vector_db=vector_db,\n",
    "    reader=PDFReader(),\n",
    "    chunking_strategy=DocumentChunking(chunk_size=CHUNK_SIZE, overlap=OVERLAP)\n",
    ")\n",
    "\n",
    "knowledge_base.load(recreate=True, upsert=True)"
   ]
  },
  {
   "cell_type": "code",
   "execution_count": null,
   "id": "87792d94",
   "metadata": {},
   "outputs": [],
   "source": [
    "# Initialize AI Agents\n",
    "legal_researcher = Agent(\n",
    "    name=\"LegalAdvisor\",\n",
    "    model=Gemini(id=\"gemini-2.0-flash-exp\"),\n",
    "    knowledge=knowledge_base,\n",
    "    search_knowledge=True,\n",
    "    description=\"Legal Researcher AI - Finds and cites relevant legal cases, regulations, and precedents using all data in the knowledge base.\",\n",
    "    instructions=[\n",
    "        \"Extract all available data from the knowledge base and search for legal cases, regulations, and citations.\",\n",
    "        \"If needed, use DuckDuckGo for additional legal references.\",\n",
    "        \"Always provide source references in your answers.\"\n",
    "    ],\n",
    "    tools=[DuckDuckGoTools()],\n",
    "    show_tool_calls=True,\n",
    "    markdown=True\n",
    ")"
   ]
  },
  {
   "cell_type": "code",
   "execution_count": null,
   "id": "079a9d45",
   "metadata": {},
   "outputs": [],
   "source": [
    "contract_analyst = Agent(\n",
    "    name=\"ContractAnalyst\",\n",
    "    model=Gemini(id=\"gemini-2.0-flash-exp\"),\n",
    "    knowledge=knowledge_base,\n",
    "    search_knowledge=True,\n",
    "    description=\"Contract Analyst AI - Reviews contracts and identifies key clauses, risks, and obligations using the full document data.\",\n",
    "    instructions=[\n",
    "        \"Extract all available data from the knowledge base and analyze the contract for key clauses, obligations, and potential ambiguities.\",\n",
    "        \"Reference specific sections of the contract where possible.\"\n",
    "    ],\n",
    "    show_tool_calls=True,\n",
    "    markdown=True\n",
    ")"
   ]
  },
  {
   "cell_type": "code",
   "execution_count": null,
   "id": "d4e0c695",
   "metadata": {},
   "outputs": [],
   "source": [
    "legal_strategist = Agent(\n",
    "    name=\"LegalStrategist\",\n",
    "    model=Gemini(id=\"gemini-2.0-flash-exp\"),\n",
    "    knowledge=knowledge_base,\n",
    "    search_knowledge=True,\n",
    "    description=\"Legal Strategist AI - Provides comprehensive risk assessment and strategic recommendations based on all the available data from the contract.\",\n",
    "    instructions=[\n",
    "        \"Using all data from the knowledge base, assess the contract for legal risks and opportunities.\",\n",
    "        \"Provide actionable recommendations and ensure compliance with applicable laws.\"\n",
    "    ],\n",
    "    show_tool_calls=True,\n",
    "    markdown=True\n",
    ")"
   ]
  },
  {
   "cell_type": "code",
   "execution_count": null,
   "id": "7fcde8ac",
   "metadata": {},
   "outputs": [],
   "source": [
    "team_lead = Agent(\n",
    "    name=\"TeamLead\",\n",
    "    model=Gemini(id=\"gemini-2.0-flash-exp\"),\n",
    "    description=\"Team Lead AI - Integrates responses from the Legal Researcher, Contract Analyst, and Legal Strategist into a comprehensive report.\",\n",
    "    instructions=[\n",
    "        \"Combine and summarize all insights provided by the Legal Researcher, Contract Analyst, and Legal Strategist. \"\n",
    "        \"Ensure the final report includes references to all relevant sections from the document.\"\n",
    "    ],\n",
    "    show_tool_calls=True,\n",
    "    markdown=True\n",
    ")\n"
   ]
  },
  {
   "cell_type": "code",
   "execution_count": null,
   "id": "f127ba93",
   "metadata": {},
   "outputs": [],
   "source": [
    "# ========== ANALYSIS FUNCTION ==========\n",
    "def get_team_response(query: str):\n",
    "    print(\"Running agents...\\n\")\n",
    "    research_response = legal_researcher.run(query)\n",
    "    contract_response = contract_analyst.run(query)\n",
    "    strategy_response = legal_strategist.run(query)\n",
    "\n",
    "    final_response = team_lead.run(\n",
    "        f\"Summarize and integrate the following insights gathered using the full contract data:\\n\\n\"\n",
    "        f\"Legal Researcher:\\n{research_response}\\n\\n\"\n",
    "        f\"Contract Analyst:\\n{contract_response}\\n\\n\"\n",
    "        f\"Legal Strategist:\\n{strategy_response}\\n\\n\"\n",
    "        \"Provide a structured legal analysis report that includes key terms, obligations, risks, and recommendations, with references to the document.\"\n",
    "    )\n",
    "    return final_response"
   ]
  },
  {
   "cell_type": "code",
   "execution_count": null,
   "id": "30040adf",
   "metadata": {},
   "outputs": [],
   "source": [
    "print(\"Select analysis type:\")\n",
    "options = [\n",
    "    \"Contract Review\",\n",
    "    \"Legal Research\",\n",
    "    \"Risk Assessment\",\n",
    "    \"Compliance Check\",\n",
    "    \"Custom Query\"\n",
    "]\n",
    "for idx, opt in enumerate(options):\n",
    "    print(f\"{idx + 1}. {opt}\")"
   ]
  },
  {
   "cell_type": "code",
   "execution_count": null,
   "id": "1ba2d34f",
   "metadata": {},
   "outputs": [],
   "source": [
    "selected = int(input(\"Enter your choice (1-5): \"))\n",
    "if selected == 5:\n",
    "    query = input(\"Enter your custom legal question: \")\n",
    "else:\n",
    "    predefined_queries = {\n",
    "        1: (\n",
    "            \"Analyze this document, contract, or agreement using all available data from the knowledge base. \"\n",
    "            \"Identify key terms, obligations, and risks in detail.\"\n",
    "        ),\n",
    "        2: (\n",
    "            \"Using all available data from the knowledge base, find relevant legal cases and precedents related to this document, contract, or agreement. \"\n",
    "            \"Provide detailed references and sources.\"\n",
    "        ),\n",
    "        3: (\n",
    "            \"Extract all data from the knowledge base and identify potential legal risks in this document, contract, or agreement. \"\n",
    "            \"Detail specific risk areas and reference sections of the text.\"\n",
    "        ),\n",
    "        4: (\n",
    "            \"Evaluate this document, contract, or agreement for compliance with legal regulations using all available data from the knowledge base. \"\n",
    "            \"Highlight any areas of concern and suggest corrective actions.\"\n",
    "        ),\n",
    "    }\n",
    "    query = predefined_queries[selected]"
   ]
  },
  {
   "cell_type": "code",
   "execution_count": null,
   "id": "9be8a571",
   "metadata": {},
   "outputs": [],
   "source": [
    "response = get_team_response(query)"
   ]
  },
  {
   "cell_type": "code",
   "execution_count": null,
   "id": "5199d626",
   "metadata": {},
   "outputs": [],
   "source": [
    "print(response.content if response.content else \"No response generated.\")"
   ]
  },
  {
   "cell_type": "code",
   "execution_count": null,
   "id": "4dabcabf",
   "metadata": {},
   "outputs": [],
   "source": [
    "key_points_response = team_lead.run(\n",
    "    f\"Summarize the key legal points from this analysis:\\n{response.content}\"\n",
    ")\n",
    "print(key_points_response.content if key_points_response.content else \"No summary generated.\")"
   ]
  },
  {
   "cell_type": "code",
   "execution_count": null,
   "id": "e49dd9f6",
   "metadata": {},
   "outputs": [],
   "source": [
    "recommendations_response = team_lead.run(\n",
    "    f\"Provide specific legal recommendations based on this analysis:\\n{response.content}\"\n",
    ")\n",
    "print(recommendations_response.content if recommendations_response.content else \"No recommendations generated.\")"
   ]
  }
 ],
 "metadata": {
  "kernelspec": {
   "display_name": "idk",
   "language": "python",
   "name": "python3"
  },
  "language_info": {
   "codemirror_mode": {
    "name": "ipython",
    "version": 3
   },
   "file_extension": ".py",
   "mimetype": "text/x-python",
   "name": "python",
   "nbconvert_exporter": "python",
   "pygments_lexer": "ipython3",
   "version": "3.11.11"
  }
 },
 "nbformat": 4,
 "nbformat_minor": 5
}
