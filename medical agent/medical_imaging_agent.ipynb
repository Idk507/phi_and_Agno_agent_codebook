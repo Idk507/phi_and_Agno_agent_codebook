{
 "cells": [
  {
   "cell_type": "code",
   "execution_count": 2,
   "id": "4a32f461",
   "metadata": {},
   "outputs": [
    {
     "name": "stderr",
     "output_type": "stream",
     "text": [
      "c:\\Users\\dhanu\\miniconda3\\envs\\idk\\Lib\\site-packages\\tqdm\\auto.py:21: TqdmWarning: IProgress not found. Please update jupyter and ipywidgets. See https://ipywidgets.readthedocs.io/en/stable/user_install.html\n",
      "  from .autonotebook import tqdm as notebook_tqdm\n"
     ]
    }
   ],
   "source": [
    "import os\n",
    "from agno.agent import Agent\n",
    "from PIL import Image\n",
    "from agno.models.google import Gemini\n",
    "from agno.media import Image as agnoimage \n",
    "from agno.tools import duckduckgo\n",
    "from google import generativeai as genai"
   ]
  },
  {
   "cell_type": "code",
   "execution_count": null,
   "id": "231b8566",
   "metadata": {},
   "outputs": [],
   "source": [
    "GOOGLE_API_KEY = \"\"\n",
    "os.environ[\"GOOGLE_API_KEY\"] = GOOGLE_API_KEY"
   ]
  },
  {
   "cell_type": "code",
   "execution_count": 3,
   "id": "50275753",
   "metadata": {},
   "outputs": [],
   "source": [
    "#initialize the medical agent \n",
    "medical_agent = Agent(\n",
    "    name=\"medical-agent\",\n",
    "    description=\"A medical agent that can answer questions about health and wellness.\",\n",
    "    tools=[\n",
    "        duckduckgo.DuckDuckGoTools(),\n",
    "        \n",
    "    ],\n",
    "    instructions=[\n",
    "        \"You are a medical agent. Answer the user's questions about health and wellness.\",\n",
    "        \"If you don't know the answer, use DuckDuckGo to search for it.\",\n",
    "        \"If you find an image, return it as a link.\",\n",
    "        \"If you find a video, return it as a link.\",\n",
    "    ]\n",
    ")"
   ]
  },
  {
   "cell_type": "code",
   "execution_count": null,
   "id": "7d8452f4",
   "metadata": {},
   "outputs": [],
   "source": [
    "# Medical Analysis Query\n",
    "query = \"\"\"\n",
    "You are a highly skilled medical imaging expert with extensive knowledge in radiology and diagnostic imaging. Analyze the medical image and structure your response as follows:\n",
    "\n",
    "### 1. Image Type & Region\n",
    "- Identify imaging modality (X-ray/MRI/CT/Ultrasound/etc.).\n",
    "- Specify anatomical region and positioning.\n",
    "- Evaluate image quality and technical adequacy.\n",
    "\n",
    "### 2. Key Findings\n",
    "- Highlight primary observations systematically.\n",
    "- Identify potential abnormalities with detailed descriptions.\n",
    "- Include measurements and densities where relevant.\n",
    "\n",
    "### 3. Diagnostic Assessment\n",
    "- Provide primary diagnosis with confidence level.\n",
    "- List differential diagnoses ranked by likelihood.\n",
    "- Support each diagnosis with observed evidence.\n",
    "- Highlight critical/urgent findings.\n",
    "\n",
    "### 4. Patient-Friendly Explanation\n",
    "- Simplify findings in clear, non-technical language.\n",
    "- Avoid medical jargon or provide easy definitions.\n",
    "- Include relatable visual analogies.\n",
    "\n",
    "### 5. Research Context\n",
    "- Use DuckDuckGo search to find recent medical literature.\n",
    "- Search for standard treatment protocols.\n",
    "- Provide 2-3 key references supporting the analysis.\n",
    "\n",
    "Ensure a structured and medically accurate response using clear markdown formatting.\n",
    "\"\"\"\n"
   ]
  },
  {
   "cell_type": "code",
   "execution_count": null,
   "id": "c9f7cf5d",
   "metadata": {},
   "outputs": [],
   "source": [
    "#handles the image \n",
    "def analyse_medical_image(image_path):\n",
    "    image = PILImage.open(image_path)\n",
    "    width, height = image.size\n",
    "    aspect_ratio = width / height\n",
    "    new_width = 500\n",
    "    new_height = int(new_width / aspect_ratio)\n",
    "    resize_image = image.resize((new_width, new_height))\n",
    "    resized_image_path = \"resized_image.png\"\n",
    "\n",
    "    resize_image.save(resized_image_path)\n",
    "    agno_image = AgnoImage(resized_image_path)\n",
    "    reposne = medical_agent.run(query,images=[agno_image])\n",
    "\n",
    "    return response.content\n",
    "    "
   ]
  },
  {
   "cell_type": "code",
   "execution_count": null,
   "id": "a2012ebd",
   "metadata": {},
   "outputs": [],
   "source": [
    "# Example usage\n",
    "image_path = \"img.jpg\"\n",
    "response = analyse_medical_image(image_path)\n",
    "print(response)  # Print the response from the agent\n",
    "# Save the response to a file\n",
    "with open(\"medical_analysis_response.txt\", \"w\") as file:\n",
    "    file.write(response.content)\n"
   ]
  }
 ],
 "metadata": {
  "kernelspec": {
   "display_name": "idk",
   "language": "python",
   "name": "python3"
  },
  "language_info": {
   "codemirror_mode": {
    "name": "ipython",
    "version": 3
   },
   "file_extension": ".py",
   "mimetype": "text/x-python",
   "name": "python",
   "nbconvert_exporter": "python",
   "pygments_lexer": "ipython3",
   "version": "3.11.11"
  }
 },
 "nbformat": 4,
 "nbformat_minor": 5
}
