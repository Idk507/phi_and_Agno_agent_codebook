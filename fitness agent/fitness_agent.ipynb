{
 "cells": [
  {
   "cell_type": "code",
   "execution_count": 4,
   "id": "c05ecbe6",
   "metadata": {},
   "outputs": [
    {
     "name": "stderr",
     "output_type": "stream",
     "text": [
      "c:\\Users\\dhanu\\miniconda3\\envs\\idk\\Lib\\site-packages\\tqdm\\auto.py:21: TqdmWarning: IProgress not found. Please update jupyter and ipywidgets. See https://ipywidgets.readthedocs.io/en/stable/user_install.html\n",
      "  from .autonotebook import tqdm as notebook_tqdm\n"
     ]
    }
   ],
   "source": [
    "import os \n",
    "from agno.agent import Agent\n",
    "from agno.models.google import Gemini\n",
    "from agno.tools import  duckduckgo\n",
    "import google.generativeai as genai"
   ]
  },
  {
   "cell_type": "code",
   "execution_count": null,
   "id": "0118b508",
   "metadata": {},
   "outputs": [],
   "source": [
    "GOOGLE_API_KEY = \"\"\n",
    "os.environ[\"GOOGLE_API_KEY\"] = GOOGLE_API_KEY"
   ]
  },
  {
   "cell_type": "code",
   "execution_count": 7,
   "id": "99a81791",
   "metadata": {},
   "outputs": [],
   "source": [
    "#dietry planner agent \n",
    "dietryplan = Agent(\n",
    "    model = Gemini(id=\"gemini-1.5-turbo\"),\n",
    "    description = \"Dietry Planner\",\n",
    "    instructions = [\n",
    "        \"You are a dietry planner. You will help the user plan their meals and diet. You will ask the user about their dietary preferences, restrictions, and goals. You will then provide meal suggestions and recipes based on their input. You will also provide nutritional information for the suggested meals. You will be polite and professional in your responses.\",\n",
    "    ],\n",
    "    tools = [\n",
    "        duckduckgo.DuckDuckGoTools(),\n",
    "    ],\n",
    "    markdown = True,\n",
    "    show_tool_calls = True,\n",
    ")"
   ]
  },
  {
   "cell_type": "code",
   "execution_count": 8,
   "id": "62a3643d",
   "metadata": {},
   "outputs": [],
   "source": [
    "#function to get personalized meal plan\n",
    "\n",
    "def get_meal_plan(age,weight,height,activity_level,dietry_plan,fitness_plan):\n",
    "    prompt = (f\"Create a dietry plan for a {age} year old person with a weight of {weight} kg and height of {height} cm. \"\n",
    "             f\"The person is {activity_level} and has a dietry plan of {dietry_plan}. \"\n",
    "                f\"The person is also following a fitness plan of {fitness_plan}. \"\n",
    "                f\"Provide a detailed meal plan with recipes and nutritional information. \"\n",
    "                f\"Include breakfast, lunch, dinner, and snacks. \"\n",
    "                f\"Make sure to include a variety of foods and avoid any allergens or restrictions. \"\n",
    "    )\n",
    "    return dietryplan.run(prompt)"
   ]
  },
  {
   "cell_type": "code",
   "execution_count": null,
   "metadata": {},
   "outputs": [],
   "source": [
    "#fitness trainer agent \n",
    "fitness_trainer = Agent(\n",
    "    model = Gemini(id=\"gemini-1.5-turbo\"),\n",
    "    description = \"Fitness Trainer\",\n",
    "    instructions = [\n",
    "        \"You are a fitness trainer. You will help the user with their fitness goals and plans. You will ask the user about their fitness goals, current fitness level, and any restrictions or injuries. You will then provide a personalized fitness plan based on their input. You will also provide tips and advice for staying motivated and achieving their goals. You will be polite and professional in your responses.\",\n",
    "    ],\n",
    "    tools = [\n",
    "        duckduckgo.DuckDuckGoTools(),\n",
    "    ],\n",
    "    markdown = True,\n",
    "    show_tool_calls = True,\n",
    ")"
   ]
  },
  {
   "cell_type": "code",
   "execution_count": null,
   "id": "fe424038",
   "metadata": {},
   "outputs": [],
   "source": [
    "def get_fitness_trainer(age,weight,height,activity_level,fitness_plan):\n",
    "    prompt = (f\"Create a fitness plan for a {age} year old person with a weight of {weight} kg and height of {height} cm. \"\n",
    "             f\"The person is {activity_level} and has a fitness plan of {fitness_plan}. \"\n",
    "                f\"Provide a detailed fitness plan with exercises and tips. \"\n",
    "                f\"Include warm-up, workout, and cool-down exercises. \"\n",
    "                f\"Make sure to include a variety of exercises and avoid any injuries or restrictions. \"\n",
    "    )\n",
    "    return fitness_trainer.run(prompt)"
   ]
  },
  {
   "cell_type": "code",
   "execution_count": null,
   "id": "4fe858cd",
   "metadata": {},
   "outputs": [],
   "source": [
    "#team lead \n",
    "\n",
    "team_lead = Agent(\n",
    "    model = Gemini(id=\"gemini-1.5-turbo\"),\n",
    "    description = \"Team Lead\",\n",
    "    instructions = [\n",
    "        \"Merge personalized diet and fitness plans for a comprehensive approach, Use Tables if possible.\",\n",
    "        \"Ensure alignment between diet and exercise for optimal results.\",\n",
    "        \"Suggest lifestyle tips for motivation and consistency.\",\n",
    "        \"Provide guidance on tracking progress and adjusting plans over time.\",\n",
    "      \n",
    "        \"You are a team lead. You will help the user with their team management and leadership skills. You will ask the user about their team structure, goals, and any challenges they are facing. You will then provide advice and tips for improving team performance and communication. You will also provide resources and tools for team management. You will be polite and professional in your responses.\",\n",
    "    ],\n",
    "    tools = [\n",
    "        duckduckgo.DuckDuckGoTools(),\n",
    "    ],\n",
    "    markdown = True,\n",
    "    show_tool_calls = True,\n",
    ")"
   ]
  },
  {
   "cell_type": "code",
   "execution_count": null,
   "id": "4456db0e",
   "metadata": {},
   "outputs": [],
   "source": [
    "def get_team_lead(age,weight,height,activity_level,dietry_plan,fitness_plan):\n",
    "    prompt = (f\"Create a dietry plan for a {age} year old person with a weight of {weight} kg and height of {height} cm. \"\n",
    "             f\"The person is {activity_level} and has a dietry plan of {dietry_plan}. \"\n",
    "                f\"The person is also following a fitness plan of {fitness_plan}. \"\n",
    "                f\"Provide a detailed meal plan with recipes and nutritional information. \"\n",
    "                f\"Include breakfast, lunch, dinner, and snacks. \"\n",
    "                f\"Make sure to include a variety of foods and avoid any allergens or restrictions. \"\n",
    "    )\n",
    "    return team_lead.run(prompt)"
   ]
  },
  {
   "cell_type": "code",
   "execution_count": null,
   "id": "490085da",
   "metadata": {},
   "outputs": [],
   "source": [
    "age = input(\"Enter your age: \")\n",
    "weight = input(\"Enter your weight (kg): \")\n",
    "height = input(\"Enter your height (cm): \")\n",
    "activity_level = input(\"Enter your activity level (sedentary, moderately active, very active): \")\n",
    "dietry_plan = input(\"Enter your dietry plan (vegetarian, vegan, keto, etc.): \")\n",
    "fitness_plan = input(\"Enter your fitness plan (weight loss, muscle gain, maintenance): \")\n",
    "\n",
    "# Get personalized meal plan\n",
    "meal_plan = get_meal_plan(age, weight, height, activity_level, dietry_plan, fitness_plan)\n",
    "print(\"Personalized Meal Plan:\")\n",
    "print(meal_plan)\n",
    "\n",
    "# Get personalized fitness plan\n",
    "fitness_plan = get_fitness_trainer(age, weight, height, activity_level, fitness_plan)\n",
    "print(\"Personalized Fitness Plan:\")\n",
    "print(fitness_plan)\n",
    "\n",
    "# Get team lead advice\n",
    "team_lead_advice = get_team_lead(age, weight, height, activity_level, dietry_plan, fitness_plan)\n",
    "print(\"Team Lead Advice:\")\n",
    "print(team_lead_advice)"
   ]
  },
  {
   "cell_type": "code",
   "execution_count": null,
   "id": "54fa0e38",
   "metadata": {},
   "outputs": [],
   "source": []
  },
  {
   "cell_type": "code",
   "execution_count": null,
   "id": "60937ee8",
   "metadata": {},
   "outputs": [],
   "source": []
  },
  {
   "cell_type": "code",
   "execution_count": null,
   "id": "1ec32be4",
   "metadata": {},
   "outputs": [],
   "source": []
  }
 ],
 "metadata": {
  "kernelspec": {
   "display_name": "idk",
   "language": "python",
   "name": "python3"
  },
  "language_info": {
   "codemirror_mode": {
    "name": "ipython",
    "version": 3
   },
   "file_extension": ".py",
   "mimetype": "text/x-python",
   "name": "python",
   "nbconvert_exporter": "python",
   "pygments_lexer": "ipython3",
   "version": "3.11.11"
  }
 },
 "nbformat": 4,
 "nbformat_minor": 5
}
