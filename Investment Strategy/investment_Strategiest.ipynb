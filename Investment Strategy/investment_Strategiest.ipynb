{
 "cells": [
  {
   "cell_type": "code",
   "execution_count": 1,
   "id": "a58a4eca",
   "metadata": {},
   "outputs": [],
   "source": [
    "import os \n",
    "import yfinance as yf\n",
    "import plotly.graph_objects as go\n",
    "from agno.agent import Agent\n",
    "from agno.models.google import Gemini \n"
   ]
  },
  {
   "cell_type": "code",
   "execution_count": null,
   "id": "ac6aacaa",
   "metadata": {},
   "outputs": [],
   "source": [
    "os.environ[\"GOOGLE_API_KEY\"] = \"\""
   ]
  },
  {
   "cell_type": "code",
   "execution_count": 2,
   "id": "83791e3b",
   "metadata": {},
   "outputs": [],
   "source": [
    "def compare_stocks(symbols):\n",
    "    data = {}\n",
    "    for symbol in symbols:\n",
    "        stock = yf.Ticker(symbol)\n",
    "        hist = stock.history(period=\"1y\")\n",
    "\n",
    "        if hist.empty:\n",
    "            print(f\"No data found for {symbol}.\")\n",
    "            continue\n",
    "        data[symbol] = hist['Close'].pct_change().sum()\n",
    "    return data"
   ]
  },
  {
   "cell_type": "code",
   "execution_count": 3,
   "id": "54a19198",
   "metadata": {},
   "outputs": [],
   "source": [
    "#market analyst \n",
    "market_analyst = Agent(\n",
    "    model = Gemini(id=\"gemini-1.5-flash\"),\n",
    "    description = \"Market analyst\",\n",
    "    instructions=[\"Retrieve and compare stock performance from yahoo Finance.\",\"Calculate pe3rcentage change over a 6 -month period.\",\"Provide a summary of the stocks' performance.\"],\n",
    "    show_tool_calls = True,\n",
    "    markdown = True\n",
    ")"
   ]
  },
  {
   "cell_type": "code",
   "execution_count": 4,
   "id": "02b5739d",
   "metadata": {},
   "outputs": [],
   "source": [
    "#function to get market analysis \n",
    "def get_market_analysis(symbols):\n",
    "    performance_data = compare_stocks(symbols)\n",
    "    if not performance_data:\n",
    "        return \"No performance data available.\"\n",
    "    analysis = market_analyst.run(f\"Compare these stock performace : {performance_data}\")\n",
    "    return analysis.content"
   ]
  },
  {
   "cell_type": "code",
   "execution_count": 5,
   "id": "60accde8",
   "metadata": {},
   "outputs": [],
   "source": [
    "def get_company_info(symbol):\n",
    "    stock = yf.Ticker(symbol)\n",
    "    return {\n",
    "        \"name\": stock.info.get(\"longName\", \"N/A\"),\n",
    "        \"sector\": stock.info.get(\"sector\", \"N/A\"),\n",
    "        \"industry\": stock.info.get(\"industry\", \"N/A\"),\n",
    "        \"description\": stock.info.get(\"longBusinessSummary\", \"N/A\"),\n",
    "    }\n",
    "\n",
    "def get_company_news(symbol):\n",
    "    stock = yf.Ticker(symbol)\n",
    "    news = stock.news[:5]\n",
    "    return news \n",
    "\n",
    "\n"
   ]
  },
  {
   "cell_type": "code",
   "execution_count": 6,
   "id": "fb37441e",
   "metadata": {},
   "outputs": [],
   "source": [
    "company_researcher = Agent(\n",
    "    model =  Gemini(id=\"gemini-1.5-flash\"),\n",
    "    description = \"Company researcher\",\n",
    "    instructions=[\"Retrieve company information and news from Yahoo Finance.\",\"Summarise latest company news relevant to investor\"],\n",
    "    markdown = True\n",
    ")"
   ]
  },
  {
   "cell_type": "code",
   "execution_count": 14,
   "id": "5ae4a12e",
   "metadata": {},
   "outputs": [],
   "source": [
    "def get_company_analysis(symbol):\n",
    "    company_info = get_company_info(symbol)\n",
    "    news = get_company_news(symbol)\n",
    "    response = company_researcher.run(\n",
    "        f\"Provide an analysis for {info['name'] }in the {info['sector']} sector.\\n \"\n",
    "        f\"Market Cap : {info['marketCap']} \\n\"\n",
    "        f\"Summary :  {info['summary']}\\n\"\n",
    "        f\"Latest news: {news} \\n\"\n",
    "    )\n",
    "    return response.content\n"
   ]
  },
  {
   "cell_type": "code",
   "execution_count": 11,
   "id": "cc8271a1",
   "metadata": {},
   "outputs": [],
   "source": [
    "stock_strategist = Agent(\n",
    "    model = Gemini(id=\"gemini-1.5-flash\"),\n",
    "    description = \"Stock strategist\",\n",
    "    instructions=[\"Provide stock recommendations based on market analysis and company research.\"],\n",
    "    markdown = True\n",
    ")\n",
    "\n",
    "def get_stock_recommendations(symbols):\n",
    "    market_analysis = get_market_analysis(symbols)\n",
    "    data = {}\n",
    "    for symbol  in stock_symbols:\n",
    "        data[symbol] = get_company_analysis(symbol)\n",
    "    recommendations = stock_strategist.run(\n",
    "        f\"Based on the market analysis : {market_analysis}, and company news {data}\"\n",
    "        f\"Provide stock recommendations.\"\n",
    "    )\n",
    "    return recommendations.content"
   ]
  },
  {
   "cell_type": "code",
   "execution_count": 15,
   "id": "48ca0805",
   "metadata": {},
   "outputs": [],
   "source": [
    "team_lead = Agent(\n",
    "    model = Gemini(id=\"gemini-1.5-flash\"),\n",
    "    description = \"Team lead who aggreagates the analysis and recommendations from the team.\",\n",
    "    instructions=[\"Summarise the analysis and recommendations from the team.\"],\n",
    "    markdown = True\n",
    "\n",
    ")\n",
    "\n",
    "def get_final_investment_report(symbol):\n",
    "    market_analysis = get_market_analysis(symbols)\n",
    "    company_analysis = get_company_analysis(symbol)\n",
    "    stock_recommendations = get_stock_recommendations(symbols)\n",
    "\n",
    "    final_report = team_lead.run(\n",
    "        f\"Market Analysis: {market_analysis}\\n\"\n",
    "        f\"Company Analysis: {company_analysis}\\n\"\n",
    "        f\"Stock Recommendations: {stock_recommendations}\"\n",
    "    )\n",
    "    return final_report.content"
   ]
  },
  {
   "cell_type": "code",
   "execution_count": null,
   "id": "11e06b67",
   "metadata": {},
   "outputs": [],
   "source": [
    "input_symbol = input(\"Enter stock symbols separated by commas(AAPL,TSLA,GOOG): \")\n",
    "stock_symbols = [symbol.strip() for symbol in input_symbol.split(\",\") if symbol.strip()]"
   ]
  },
  {
   "cell_type": "code",
   "execution_count": null,
   "id": "bc3185b7",
   "metadata": {},
   "outputs": [],
   "source": [
    "report = get_final_investment_report(stock_symbols)\n",
    "print(report)"
   ]
  },
  {
   "cell_type": "code",
   "execution_count": null,
   "id": "3d704963",
   "metadata": {},
   "outputs": [],
   "source": []
  }
 ],
 "metadata": {
  "kernelspec": {
   "display_name": "idk",
   "language": "python",
   "name": "python3"
  },
  "language_info": {
   "codemirror_mode": {
    "name": "ipython",
    "version": 3
   },
   "file_extension": ".py",
   "mimetype": "text/x-python",
   "name": "python",
   "nbconvert_exporter": "python",
   "pygments_lexer": "ipython3",
   "version": "3.11.11"
  }
 },
 "nbformat": 4,
 "nbformat_minor": 5
}
