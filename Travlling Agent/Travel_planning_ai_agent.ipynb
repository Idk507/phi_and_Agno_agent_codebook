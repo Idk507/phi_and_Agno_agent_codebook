{
 "cells": [
  {
   "cell_type": "code",
   "execution_count": 1,
   "id": "e0a2dd4d",
   "metadata": {},
   "outputs": [],
   "source": [
    "import os \n",
    "from agno.agent import Agent \n",
    "from agno.models.openai import OpenAIChat \n",
    "from agno.tools.duckduckgo import DuckDuckGoTools \n",
    "import requests \n",
    "from dotenv import load_dotenv"
   ]
  },
  {
   "cell_type": "code",
   "execution_count": 4,
   "id": "07c1c043",
   "metadata": {},
   "outputs": [],
   "source": [
    "class WeatherTool:\n",
    "    def __init__(self):\n",
    "        self.name = \"weathertool\"\n",
    "        self.description = \"Provides weather information for a given location.\"\n",
    "        self.api_key = os.getenv(\"WEATHER_API_KEY\")\n",
    "\n",
    "    def run(self,location:str):\n",
    "        try : \n",
    "            url = f\"http://api.weatherapi.com/v1/current.json?key={self.api_key}&q={location}\"\n",
    "            response = requests.get(url)\n",
    "            response.raise_for_status()  # Raise an error for bad responses\n",
    "            data = response.json()\n",
    "            current = data['current']\n",
    "            return (f\"Current weather in {location}: {current['condition']['text']}\\nTemperature :{current['temp_c']}°C\\n Humidity :{current['humidity']}%\\nWind Speed :{current['wind_kph']} kph\")\n",
    "        except Exception as e :\n",
    "            return f\"Error fetching weather\""
   ]
  },
  {
   "cell_type": "code",
   "execution_count": 5,
   "id": "986bf61f",
   "metadata": {},
   "outputs": [],
   "source": [
    "class HotelTool:\n",
    "    def __init__(self):\n",
    "        self.name = \"hoteltool\"\n",
    "        self.description = \"Provide the hotel recommendations for a given location.\"\n",
    "    \n",
    "    def run(self,location:str)->str:\n",
    "        search_query = f\"best hotel in{location}\"\n",
    "        search_tool = DuckDuckGoTools()\n",
    "        result = search_tool.run(search_query)"
   ]
  },
  {
   "cell_type": "code",
   "execution_count": null,
   "id": "6ba39fb6",
   "metadata": {},
   "outputs": [],
   "source": [
    "travel_assistant = Agent(\n",
    "    model = OpenAIChat(\n",
    "        id=\"gpt-4o\",\n",
    "        api_key = os.environ[\"OPENAI_API_KEY\"],\n",
    "    ),\n",
    "    description = \"You are an expert travel assistant helping users plan trip,recommend hotels,find the best destination and provide traveladvice\",\n",
    "    instructions = [\"Offer detailed travel planning assistance\",\n",
    "        \"Use WeatherTool for current weather information\",\n",
    "        \"Use HotelTool for hotel recommendations\",\n",
    "        \"Use DuckDuckGoTools for searching destinations and travel tips\",\n",
    "        \"Provide concise, actionable advice in markdown format\",\n",
    "        \"Consider budget, season, and user preferences when possible\"\n",
    "        \n",
    "    ],\n",
    "    tools = [\n",
    "        WeatherTool(),\n",
    "        HotelTool(),\n",
    "        DuckDuckGoTools()\n",
    "    ],\n",
    "    markdown = True,\n",
    "    memory = True\n",
    ")"
   ]
  },
  {
   "cell_type": "code",
   "execution_count": null,
   "id": "e4b60284",
   "metadata": {},
   "outputs": [],
   "source": [
    "def get_travel_help(query:str):\n",
    "    travel_assistant.print_response(query,stream = True)"
   ]
  },
  {
   "cell_type": "code",
   "execution_count": null,
   "id": "2ff2bff0",
   "metadata": {},
   "outputs": [],
   "source": [
    "queries = [\n",
    "\"What are the best places to visit in Italy for a summer trip?\",\n",
    "\"Recommend some hotels in New York City for a weekend stay\",\n",
    "\"What's the weather like in Tokyo, and what should I pack for a trip next week?\",\n",
    "\"Plan a 5-day trip to Paris including top attractions and hotel suggestions\"\n",
    "]\n",
    "\n",
    "\n"
   ]
  },
  {
   "cell_type": "code",
   "execution_count": null,
   "id": "9dc21097",
   "metadata": {},
   "outputs": [],
   "source": [
    "for q in queries:\n",
    "    print(f\"Query: {q}\")\n",
    "    get_travel_help(q)\n",
    "    print(\"\\n\" + \"-\"*50 + \"\\n\")\n"
   ]
  }
 ],
 "metadata": {
  "kernelspec": {
   "display_name": "idk",
   "language": "python",
   "name": "python3"
  },
  "language_info": {
   "codemirror_mode": {
    "name": "ipython",
    "version": 3
   },
   "file_extension": ".py",
   "mimetype": "text/x-python",
   "name": "python",
   "nbconvert_exporter": "python",
   "pygments_lexer": "ipython3",
   "version": "3.11.11"
  }
 },
 "nbformat": 4,
 "nbformat_minor": 5
}
